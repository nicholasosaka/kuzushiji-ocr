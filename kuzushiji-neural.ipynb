{
 "cells": [
  {
   "cell_type": "markdown",
   "id": "43e78eeb",
   "metadata": {},
   "source": [
    "# Kuzushiji Character Recognition"
   ]
  },
  {
   "cell_type": "markdown",
   "id": "7a691195",
   "metadata": {},
   "source": [
    "## Imports and Configuration\n",
    "First, we need to import our libraries and set random seeds for when we do our train/test split"
   ]
  },
  {
   "cell_type": "code",
   "execution_count": 1,
   "id": "8ae6373e",
   "metadata": {},
   "outputs": [
    {
     "name": "stdout",
     "output_type": "stream",
     "text": [
      "tf version 2.4.1\n"
     ]
    }
   ],
   "source": [
    "# import libraries\n",
    "import pandas as pd\n",
    "import numpy as np\n",
    "import random\n",
    "import matplotlib.pyplot as plt\n",
    "import seaborn as sns\n",
    "import datetime\n",
    "import time\n",
    "import tensorflow as tf\n",
    "\n",
    "print(f\"tf version {tf.__version__}\")\n",
    "\n",
    "%matplotlib inline\n",
    "%load_ext autoreload\n",
    "%autoreload 2\n"
   ]
  },
  {
   "cell_type": "code",
   "execution_count": 2,
   "id": "7cf5860b",
   "metadata": {},
   "outputs": [],
   "source": [
    "# reproducibility\n",
    "np.random.seed(2021)\n",
    "random.seed(2021)"
   ]
  },
  {
   "cell_type": "code",
   "execution_count": 3,
   "id": "65856577",
   "metadata": {},
   "outputs": [],
   "source": [
    "def pretty_seconds(s):\n",
    "    t = str(datetime.timedelta(seconds=s)).split(\":\")\n",
    "    return f\"{t[0]}h {t[1]}m {t[2]}s\""
   ]
  },
  {
   "cell_type": "markdown",
   "id": "fd097c12",
   "metadata": {},
   "source": [
    "## Dataset\n",
    "Our dataset (Kuzishiji-49 or KMNIST) already puts our data as numpy arrays, in a compressed `npz` format."
   ]
  },
  {
   "cell_type": "code",
   "execution_count": 4,
   "id": "e9abbcb1",
   "metadata": {},
   "outputs": [],
   "source": [
    "# load compressed numpy arrays\n",
    "dataset = \"k49\" # options are k49 or kmnist\n",
    "\n",
    "# train images\n",
    "with np.load(f'./datasets/{dataset}-train-imgs.npz') as data:\n",
    "    X_tr = data['arr_0']\n",
    "\n",
    "# train labels\n",
    "with np.load(f'./datasets/{dataset}-train-labels.npz') as data:\n",
    "    Y_tr = data['arr_0']\n",
    "    \n",
    "# validation images\n",
    "with np.load(f'./datasets/{dataset}-test-imgs.npz') as data:\n",
    "    X_val = data['arr_0']\n",
    "\n",
    "# validation labels\n",
    "with np.load(f'./datasets/{dataset}-test-labels.npz') as data:\n",
    "    Y_val = data['arr_0']"
   ]
  },
  {
   "cell_type": "markdown",
   "id": "bd12021e",
   "metadata": {},
   "source": [
    "If we take a look at our labels, we can see that they're just uints, so no need to do any conversions. We are provided with a classmap that maps numbers to unicode characters. We'll load that and make a helpful function to convert a label to a character."
   ]
  },
  {
   "cell_type": "code",
   "execution_count": 5,
   "id": "e94890bc",
   "metadata": {},
   "outputs": [
    {
     "data": {
      "text/plain": [
       "array([19, 23, 10, 31, 26, 12, 24,  9, 24,  8], dtype=uint8)"
      ]
     },
     "execution_count": 5,
     "metadata": {},
     "output_type": "execute_result"
    }
   ],
   "source": [
    "Y_val[:10]"
   ]
  },
  {
   "cell_type": "code",
   "execution_count": 6,
   "id": "6ce11743",
   "metadata": {},
   "outputs": [],
   "source": [
    "# create lookup table + conversion function to convert label to UTF-8 char\n",
    "lookup_df = pd.read_csv(f'./datasets/{dataset}_classmap.csv')\n",
    "lookup_df = lookup_df[['codepoint', 'char']]\n",
    "\n",
    "def label_to_char(label):\n",
    "    return lookup_df.iloc[label]['char']"
   ]
  },
  {
   "cell_type": "code",
   "execution_count": 7,
   "id": "c52111a9",
   "metadata": {},
   "outputs": [
    {
     "data": {
      "text/plain": [
       "19    と\n",
       "23    ね\n",
       "10    さ\n",
       "31    み\n",
       "26    ひ\n",
       "12    す\n",
       "24    の\n",
       "9     こ\n",
       "24    の\n",
       "8     け\n",
       "Name: char, dtype: object"
      ]
     },
     "execution_count": 7,
     "metadata": {},
     "output_type": "execute_result"
    }
   ],
   "source": [
    "label_to_char(Y_val[:10])"
   ]
  },
  {
   "cell_type": "markdown",
   "id": "b00bf9d2",
   "metadata": {},
   "source": [
    "Taking a look at the shapes of our data and the quantity of samples we have:"
   ]
  },
  {
   "cell_type": "code",
   "execution_count": 8,
   "id": "d793e9cf",
   "metadata": {},
   "outputs": [
    {
     "name": "stdout",
     "output_type": "stream",
     "text": [
      "# of training instances: 232365\n",
      "# of validation instances: 38547\n",
      "Total # of instances: 270912\n",
      "\n",
      "\n",
      "Shape of training instance features: (28, 28)\n",
      "Shape of validation instance features: (28, 28)\n"
     ]
    }
   ],
   "source": [
    "print(\"# of training instances:\", X_tr.shape[0])\n",
    "print(\"# of validation instances:\", X_val.shape[0])\n",
    "print(\"Total # of instances:\", X_tr.shape[0] + X_val.shape[0])\n",
    "print(\"\\n\")\n",
    "print(\"Shape of training instance features:\", X_tr.shape[1:])\n",
    "print(\"Shape of validation instance features:\", X_val.shape[1:])"
   ]
  },
  {
   "cell_type": "markdown",
   "id": "c9e39edc-ae9f-4c85-a5fa-1e838a546899",
   "metadata": {},
   "source": [
    "We'll also make a helper function to display a given sample"
   ]
  },
  {
   "cell_type": "code",
   "execution_count": 9,
   "id": "44122f27-52fd-44ae-ac29-ef9e8a118a6e",
   "metadata": {},
   "outputs": [],
   "source": [
    "def display_sample(sample, shape=(28,28), figsize=(4,4)):\n",
    "    reshaped = sample.reshape(shape)\n",
    "    scaled = sample * 255\n",
    "    plt.axis('off')\n",
    "#   plt.figure(figsize=figsize)\n",
    "    plt.imshow(reshaped, cmap='Greys', interpolation='nearest')"
   ]
  },
  {
   "cell_type": "code",
   "execution_count": 10,
   "id": "6bdba9f9-3988-4759-9c92-044f0d9a0fcd",
   "metadata": {
    "scrolled": true
   },
   "outputs": [
    {
     "data": {
      "image/png": "[encoded data removed]",
      "text/plain": [
       "<Figure size 432x288 with 1 Axes>"
      ]
     },
     "metadata": {
      "needs_background": "light"
     },
     "output_type": "display_data"
    }
   ],
   "source": [
    "display_sample(X_tr[1])"
   ]
  },
  {
   "cell_type": "markdown",
   "id": "5d874e07-f1ef-44ab-8fbf-5a363fda6a67",
   "metadata": {
    "tags": []
   },
   "source": [
    "## Preprocessing"
   ]
  },
  {
   "cell_type": "code",
   "execution_count": 11,
   "id": "a7b3f5eb",
   "metadata": {},
   "outputs": [],
   "source": [
    "def binarize(sample, threshold=122):\n",
    "    return np.int8(sample > threshold)"
   ]
  },
  {
   "cell_type": "code",
   "execution_count": 12,
   "id": "706c1473",
   "metadata": {},
   "outputs": [
    {
     "data": {
      "image/png": "[encoded data removed]",
      "text/plain": [
       "<Figure size 432x288 with 1 Axes>"
      ]
     },
     "metadata": {
      "needs_background": "light"
     },
     "output_type": "display_data"
    }
   ],
   "source": [
    "display_sample(binarize(X_tr[1]))"
   ]
  },
  {
   "cell_type": "code",
   "execution_count": 13,
   "id": "2e60aaf8",
   "metadata": {},
   "outputs": [],
   "source": [
    "X_tr_bin = binarize(X_tr)\n",
    "X_val_bin = binarize(X_val)"
   ]
  },
  {
   "cell_type": "markdown",
   "id": "fc58757f",
   "metadata": {},
   "source": [
    "We need our targets to be one hot encoded for the CNN"
   ]
  },
  {
   "cell_type": "code",
   "execution_count": 14,
   "id": "d90d2ddd",
   "metadata": {},
   "outputs": [],
   "source": [
    "Y_tr_onehot = tf.keras.utils.to_categorical(Y_tr)\n",
    "Y_val_onehot = tf.keras.utils.to_categorical(Y_val)"
   ]
  },
  {
   "cell_type": "markdown",
   "id": "3285b5f3",
   "metadata": {},
   "source": [
    "Let's convert everything to floats instead of ints for the neural network"
   ]
  },
  {
   "cell_type": "code",
   "execution_count": 15,
   "id": "381fd3e0",
   "metadata": {},
   "outputs": [],
   "source": [
    "X_tr_bin = X_tr_bin.astype('float32')\n",
    "X_val_bin = X_val_bin.astype('float32')\n",
    "Y_tr_onehot = Y_tr_onehot.astype('float32')\n",
    "Y_val_onehot = Y_val_onehot.astype('float32')\n",
    "X_tr = X_tr.astype('float32')\n",
    "X_val = X_val.astype('float32')\n",
    "Y_tr = Y_tr.astype('float32')\n",
    "Y_val = Y_val.astype('float32')"
   ]
  },
  {
   "cell_type": "markdown",
   "id": "9de0f295-7d23-4006-8327-25c312f11089",
   "metadata": {
    "tags": []
   },
   "source": [
    "## Neural Network"
   ]
  },
  {
   "cell_type": "code",
   "execution_count": 16,
   "id": "618c8db8",
   "metadata": {},
   "outputs": [],
   "source": [
    "from tensorflow.keras.layers import Flatten, Dense, Dropout"
   ]
  },
  {
   "cell_type": "markdown",
   "id": "139373d1",
   "metadata": {},
   "source": [
    "Let's build the model"
   ]
  },
  {
   "cell_type": "code",
   "execution_count": 27,
   "id": "5dfd6d26",
   "metadata": {
    "scrolled": false
   },
   "outputs": [
    {
     "name": "stdout",
     "output_type": "stream",
     "text": [
      "Model: \"neural-k49-1633641505\"\n",
      "_________________________________________________________________\n",
      "Layer (type)                 Output Shape              Param #   \n",
      "=================================================================\n",
      "flatten_2 (Flatten)          (None, 784)               0         \n",
      "_________________________________________________________________\n",
      "dense_7 (Dense)              (None, 256)               200960    \n",
      "_________________________________________________________________\n",
      "dropout_5 (Dropout)          (None, 256)               0         \n",
      "_________________________________________________________________\n",
      "dense_8 (Dense)              (None, 256)               65792     \n",
      "_________________________________________________________________\n",
      "dropout_6 (Dropout)          (None, 256)               0         \n",
      "_________________________________________________________________\n",
      "dense_9 (Dense)              (None, 128)               32896     \n",
      "_________________________________________________________________\n",
      "dropout_7 (Dropout)          (None, 128)               0         \n",
      "_________________________________________________________________\n",
      "dense_10 (Dense)             (None, 49)                6321      \n",
      "=================================================================\n",
      "Total params: 305,969\n",
      "Trainable params: 305,969\n",
      "Non-trainable params: 0\n",
      "_________________________________________________________________\n"
     ]
    }
   ],
   "source": [
    "model_name = f\"neural-{dataset}-{int(time.time())}\"\n",
    "model = tf.keras.models.Sequential([\n",
    "    Flatten(input_shape=(28,28)),\n",
    "    Dense(256, activation='relu'),\n",
    "    Dropout(0.25),\n",
    "    Dense(256, activation='relu'),\n",
    "    Dropout(0.25),\n",
    "    Dense(128, activation='relu'),\n",
    "    Dropout(0.5),\n",
    "    Dense(Y_tr_onehot.shape[1], activation='softmax')\n",
    "], name=model_name)\n",
    "\n",
    "model.compile(\n",
    "    optimizer=tf.keras.optimizers.Adam(learning_rate=1e-3),\n",
    "    loss=tf.keras.losses.SparseCategoricalCrossentropy(from_logits=True),\n",
    "    metrics=['accuracy']\n",
    ")\n",
    "\n",
    "model.summary()"
   ]
  },
  {
   "cell_type": "code",
   "execution_count": 28,
   "id": "aa00ed5e",
   "metadata": {
    "scrolled": false
   },
   "outputs": [
    {
     "name": "stdout",
     "output_type": "stream",
     "text": [
      "Epoch 1/30\n",
      "7262/7262 [==============================] - 21s 3ms/step - loss: 1.7965 - accuracy: 0.5364 - val_loss: 1.1019 - val_accuracy: 0.7084\n",
      "Epoch 2/30\n",
      "7262/7262 [==============================] - 25s 3ms/step - loss: 0.9621 - accuracy: 0.7505 - val_loss: 0.9764 - val_accuracy: 0.7424\n",
      "Epoch 3/30\n",
      "7262/7262 [==============================] - 25s 3ms/step - loss: 0.8531 - accuracy: 0.7786 - val_loss: 0.9287 - val_accuracy: 0.7550\n",
      "Epoch 4/30\n",
      "7262/7262 [==============================] - 24s 3ms/step - loss: 0.7990 - accuracy: 0.7931 - val_loss: 0.8884 - val_accuracy: 0.7654\n",
      "Epoch 5/30\n",
      "7262/7262 [==============================] - 21s 3ms/step - loss: 0.7632 - accuracy: 0.8021 - val_loss: 0.8860 - val_accuracy: 0.7708\n",
      "Epoch 6/30\n",
      "7262/7262 [==============================] - 21s 3ms/step - loss: 0.7422 - accuracy: 0.8083 - val_loss: 0.8736 - val_accuracy: 0.7757\n",
      "Epoch 7/30\n",
      "7262/7262 [==============================] - 20s 3ms/step - loss: 0.7247 - accuracy: 0.8131 - val_loss: 0.8629 - val_accuracy: 0.7796\n",
      "Epoch 8/30\n",
      "7262/7262 [==============================] - 19s 3ms/step - loss: 0.7056 - accuracy: 0.8180 - val_loss: 0.8506 - val_accuracy: 0.7835\n",
      "Epoch 9/30\n",
      "7262/7262 [==============================] - 19s 3ms/step - loss: 0.6939 - accuracy: 0.8200 - val_loss: 0.8473 - val_accuracy: 0.7835\n",
      "Epoch 10/30\n",
      "7262/7262 [==============================] - 20s 3ms/step - loss: 0.6738 - accuracy: 0.8251 - val_loss: 0.8375 - val_accuracy: 0.7865\n",
      "Epoch 11/30\n",
      "7262/7262 [==============================] - 20s 3ms/step - loss: 0.6751 - accuracy: 0.8263 - val_loss: 0.8305 - val_accuracy: 0.7881\n",
      "Epoch 12/30\n",
      "7262/7262 [==============================] - 20s 3ms/step - loss: 0.6620 - accuracy: 0.8293 - val_loss: 0.8374 - val_accuracy: 0.7927\n",
      "Epoch 13/30\n",
      "7262/7262 [==============================] - 22s 3ms/step - loss: 0.6510 - accuracy: 0.8329 - val_loss: 0.8308 - val_accuracy: 0.7944\n",
      "Epoch 14/30\n",
      "7262/7262 [==============================] - 21s 3ms/step - loss: 0.6485 - accuracy: 0.8345 - val_loss: 0.8287 - val_accuracy: 0.7933\n",
      "Epoch 15/30\n",
      "7262/7262 [==============================] - 21s 3ms/step - loss: 0.6375 - accuracy: 0.8372 - val_loss: 0.8263 - val_accuracy: 0.7950\n",
      "Epoch 16/30\n",
      "7262/7262 [==============================] - 22s 3ms/step - loss: 0.6379 - accuracy: 0.8367 - val_loss: 0.8347 - val_accuracy: 0.7935\n",
      "Epoch 17/30\n",
      "7262/7262 [==============================] - 21s 3ms/step - loss: 0.6252 - accuracy: 0.8398 - val_loss: 0.8315 - val_accuracy: 0.7960\n",
      "Epoch 18/30\n",
      "7262/7262 [==============================] - 21s 3ms/step - loss: 0.6182 - accuracy: 0.8420 - val_loss: 0.8238 - val_accuracy: 0.7958\n",
      "Epoch 19/30\n",
      "7262/7262 [==============================] - 21s 3ms/step - loss: 0.6134 - accuracy: 0.8428 - val_loss: 0.8235 - val_accuracy: 0.7974\n",
      "Epoch 20/30\n",
      "7262/7262 [==============================] - 20s 3ms/step - loss: 0.6089 - accuracy: 0.8453 - val_loss: 0.8370 - val_accuracy: 0.7960\n",
      "Epoch 21/30\n",
      "7262/7262 [==============================] - 23s 3ms/step - loss: 0.6074 - accuracy: 0.8448 - val_loss: 0.8391 - val_accuracy: 0.7962\n",
      "Epoch 22/30\n",
      "7262/7262 [==============================] - 22s 3ms/step - loss: 0.6028 - accuracy: 0.8467 - val_loss: 0.8324 - val_accuracy: 0.7960\n",
      "Epoch 23/30\n",
      "7262/7262 [==============================] - 21s 3ms/step - loss: 0.5964 - accuracy: 0.8477 - val_loss: 0.8265 - val_accuracy: 0.7996\n",
      "Epoch 24/30\n",
      "7262/7262 [==============================] - 21s 3ms/step - loss: 0.5993 - accuracy: 0.8477 - val_loss: 0.8337 - val_accuracy: 0.7958\n",
      "Epoch 25/30\n",
      "7262/7262 [==============================] - 21s 3ms/step - loss: 0.5940 - accuracy: 0.8493 - val_loss: 0.8322 - val_accuracy: 0.7983\n",
      "Epoch 26/30\n",
      "7262/7262 [==============================] - 22s 3ms/step - loss: 0.5911 - accuracy: 0.8491 - val_loss: 0.8266 - val_accuracy: 0.8020\n",
      "Epoch 27/30\n",
      "7262/7262 [==============================] - 23s 3ms/step - loss: 0.5879 - accuracy: 0.8498 - val_loss: 0.8369 - val_accuracy: 0.7973\n",
      "Epoch 28/30\n",
      "7262/7262 [==============================] - 22s 3ms/step - loss: 0.5811 - accuracy: 0.8518 - val_loss: 0.8381 - val_accuracy: 0.8009\n",
      "Epoch 29/30\n",
      "7262/7262 [==============================] - 21s 3ms/step - loss: 0.5813 - accuracy: 0.8534 - val_loss: 0.8338 - val_accuracy: 0.8013\n"
     ]
    }
   ],
   "source": [
    "history = model.fit(\n",
    "    X_tr_bin,\n",
    "    Y_tr,\n",
    "    epochs=30,\n",
    "    batch_size=32,\n",
    "    validation_data=(X_val_bin, Y_val),\n",
    "    callbacks=[\n",
    "        tf.keras.callbacks.EarlyStopping(monitor='loss', min_delta=1e-2, patience=3)\n",
    "    ]\n",
    ")"
   ]
  },
  {
   "cell_type": "code",
   "execution_count": 29,
   "id": "4b376df3",
   "metadata": {},
   "outputs": [
    {
     "name": "stdout",
     "output_type": "stream",
     "text": [
      "1205/1205 [==============================] - 2s 1ms/step - loss: 0.8338 - accuracy: 0.8013\n"
     ]
    },
    {
     "data": {
      "text/plain": [
       "[0.8338074088096619, 0.8013074994087219]"
      ]
     },
     "execution_count": 29,
     "metadata": {},
     "output_type": "execute_result"
    }
   ],
   "source": [
    "model.evaluate(X_val_bin,  Y_val, verbose=1)"
   ]
  },
  {
   "cell_type": "code",
   "execution_count": 30,
   "id": "e5f4e2f1",
   "metadata": {},
   "outputs": [
    {
     "data": {
      "text/plain": [
       "array([0.01971676, 0.01971676, 0.01971676, 0.01971676, 0.01971676,\n",
       "       0.01971676, 0.01971676, 0.01971676, 0.01971676, 0.01971684,\n",
       "       0.01971676, 0.01971676, 0.01971676, 0.01971676, 0.01971676,\n",
       "       0.01971676, 0.01971676, 0.01971676, 0.01971676, 0.05359545,\n",
       "       0.01971676, 0.01971676, 0.01971676, 0.01971676, 0.01971676,\n",
       "       0.01971676, 0.01971676, 0.01971676, 0.01971676, 0.01971676,\n",
       "       0.01971676, 0.01971676, 0.01971676, 0.01971676, 0.01971677,\n",
       "       0.01971676, 0.01971676, 0.01971676, 0.01971676, 0.01971676,\n",
       "       0.01971676, 0.01971676, 0.01971676, 0.01971676, 0.01971676,\n",
       "       0.01971676, 0.01971676, 0.01971676, 0.01971676], dtype=float32)"
      ]
     },
     "execution_count": 30,
     "metadata": {},
     "output_type": "execute_result"
    }
   ],
   "source": [
    "Y_preds = tf.nn.softmax(model.predict(X_val_bin)).numpy()\n",
    "Y_preds[0]"
   ]
  },
  {
   "cell_type": "code",
   "execution_count": 31,
   "id": "95e03553",
   "metadata": {},
   "outputs": [],
   "source": [
    "conf_matrix_df = pd.DataFrame(tf.math.confusion_matrix(Y_val, [np.argmax(y) for y in Y_preds]).numpy(),\n",
    "             index=[i for i in range(len(lookup_df['char']))],\n",
    "             columns=[i for i in range(len(lookup_df['char']))]\n",
    ")"
   ]
  },
  {
   "cell_type": "code",
   "execution_count": 32,
   "id": "caab81ec",
   "metadata": {},
   "outputs": [
    {
     "data": {
      "image/png": "[encoded data removed]",
      "text/plain": [
       "<Figure size 1008x720 with 2 Axes>"
      ]
     },
     "metadata": {},
     "output_type": "display_data"
    }
   ],
   "source": [
    "plt.figure(figsize=(14,10))\n",
    "sns.set(font_scale=1.4)\n",
    "sns.heatmap(conf_matrix_df, annot=dataset=='kmnist', fmt=\"g\")\n",
    "plt.show()"
   ]
  },
  {
   "cell_type": "code",
   "execution_count": 33,
   "id": "d44c22fa",
   "metadata": {},
   "outputs": [
    {
     "name": "stdout",
     "output_type": "stream",
     "text": [
      "INFO:tensorflow:Assets written to: models/neural-k49-1633641505/assets\n"
     ]
    }
   ],
   "source": [
    "model.save(f'models/{model_name}')"
   ]
  },
  {
   "cell_type": "code",
   "execution_count": null,
   "id": "aae49484",
   "metadata": {},
   "outputs": [],
   "source": []
  }
 ],
 "metadata": {
  "kernelspec": {
   "display_name": "Python 3 (ipykernel)",
   "language": "python",
   "name": "python3"
  },
  "language_info": {
   "codemirror_mode": {
    "name": "ipython",
    "version": 3
   },
   "file_extension": ".py",
   "mimetype": "text/x-python",
   "name": "python",
   "nbconvert_exporter": "python",
   "pygments_lexer": "ipython3",
   "version": "3.8.11"
  }
 },
 "nbformat": 4,
 "nbformat_minor": 5
}
