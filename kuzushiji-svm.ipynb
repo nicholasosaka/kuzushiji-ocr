{
 "cells": [
  {
   "cell_type": "markdown",
   "id": "43e78eeb",
   "metadata": {},
   "source": [
    "# Kuzushiji Character Recognition"
   ]
  },
  {
   "cell_type": "markdown",
   "id": "7a691195",
   "metadata": {},
   "source": [
    "## Imports and Configuration\n",
    "First, we need to import our libraries and set random seeds for when we do our train/test split"
   ]
  },
  {
   "cell_type": "code",
   "execution_count": 1,
   "id": "8ae6373e",
   "metadata": {},
   "outputs": [],
   "source": [
    "# import libraries\n",
    "import pandas as pd\n",
    "import numpy as np\n",
    "import random\n",
    "import matplotlib.pyplot as plt\n",
    "import seaborn as sns\n",
    "from sklearn.metrics import classification_report\n",
    "from sklearn.pipeline import Pipeline\n",
    "\n",
    "%matplotlib inline\n",
    "%load_ext autoreload\n",
    "%autoreload 2\n"
   ]
  },
  {
   "cell_type": "code",
   "execution_count": 2,
   "id": "7cf5860b",
   "metadata": {},
   "outputs": [],
   "source": [
    "# reproducibility\n",
    "np.random.seed(2021)\n",
    "random.seed(2021)"
   ]
  },
  {
   "cell_type": "markdown",
   "id": "fd097c12",
   "metadata": {},
   "source": [
    "## Dataset\n",
    "Our dataset (Kuzishiji-49 or KMNIST) already puts our data as numpy arrays, in a compressed `npz` format."
   ]
  },
  {
   "cell_type": "code",
   "execution_count": 3,
   "id": "e9abbcb1",
   "metadata": {},
   "outputs": [],
   "source": [
    "# load compressed numpy arrays\n",
    "dataset = \"k49\" # options are k49 or kmnist\n",
    "\n",
    "# train images\n",
    "with np.load(f'./datasets/{dataset}-train-imgs.npz') as data:\n",
    "    X_tr = data['arr_0']\n",
    "\n",
    "# train labels\n",
    "with np.load(f'./datasets/{dataset}-train-labels.npz') as data:\n",
    "    Y_tr = data['arr_0']\n",
    "    \n",
    "# validation images\n",
    "with np.load(f'./datasets/{dataset}-test-imgs.npz') as data:\n",
    "    X_val = data['arr_0']\n",
    "\n",
    "# validation labels\n",
    "with np.load(f'./datasets/{dataset}-test-labels.npz') as data:\n",
    "    Y_val = data['arr_0']"
   ]
  },
  {
   "cell_type": "markdown",
   "id": "bd12021e",
   "metadata": {},
   "source": [
    "If we take a look at our labels, we can see that they're just uints, so no need to do any conversions. We are provided with a classmap that maps numbers to unicode characters. We'll load that and make a helpful function to convert a label to a character."
   ]
  },
  {
   "cell_type": "code",
   "execution_count": 4,
   "id": "e94890bc",
   "metadata": {},
   "outputs": [
    {
     "data": {
      "text/plain": [
       "array([19, 23, 10, 31, 26, 12, 24,  9, 24,  8], dtype=uint8)"
      ]
     },
     "execution_count": 4,
     "metadata": {},
     "output_type": "execute_result"
    }
   ],
   "source": [
    "Y_val[:10]"
   ]
  },
  {
   "cell_type": "code",
   "execution_count": 5,
   "id": "6ce11743",
   "metadata": {},
   "outputs": [],
   "source": [
    "# create lookup table + conversion function to convert label to UTF-8 char\n",
    "lookup_df = pd.read_csv(f'./datasets/{dataset}_classmap.csv')\n",
    "lookup_df = lookup_df[['codepoint', 'char']]\n",
    "\n",
    "def label_to_char(label):\n",
    "    return lookup_df.iloc[label]['char']"
   ]
  },
  {
   "cell_type": "code",
   "execution_count": 6,
   "id": "c52111a9",
   "metadata": {},
   "outputs": [
    {
     "data": {
      "text/plain": [
       "19    と\n",
       "23    ね\n",
       "10    さ\n",
       "31    み\n",
       "26    ひ\n",
       "12    す\n",
       "24    の\n",
       "9     こ\n",
       "24    の\n",
       "8     け\n",
       "Name: char, dtype: object"
      ]
     },
     "execution_count": 6,
     "metadata": {},
     "output_type": "execute_result"
    }
   ],
   "source": [
    "label_to_char(Y_val[:10])"
   ]
  },
  {
   "cell_type": "markdown",
   "id": "b00bf9d2",
   "metadata": {},
   "source": [
    "Taking a look at the shapes of our data and the quantity of samples we have:"
   ]
  },
  {
   "cell_type": "code",
   "execution_count": 7,
   "id": "d793e9cf",
   "metadata": {},
   "outputs": [
    {
     "name": "stdout",
     "output_type": "stream",
     "text": [
      "# of training instances: 232365\n",
      "# of validation instances: 38547\n",
      "Total # of instances: 270912\n",
      "\n",
      "\n",
      "Shape of training instance features: (28, 28)\n",
      "Shape of validation instance features: (28, 28)\n"
     ]
    }
   ],
   "source": [
    "print(\"# of training instances:\", X_tr.shape[0])\n",
    "print(\"# of validation instances:\", X_val.shape[0])\n",
    "print(\"Total # of instances:\", X_tr.shape[0] + X_val.shape[0])\n",
    "print(\"\\n\")\n",
    "print(\"Shape of training instance features:\", X_tr.shape[1:])\n",
    "print(\"Shape of validation instance features:\", X_val.shape[1:])"
   ]
  },
  {
   "cell_type": "markdown",
   "id": "aeef1dee",
   "metadata": {},
   "source": [
    "Instead of having features in the shape of (28, 28), let's reshape our features to (784,) so that we can easily manipulate these arrays."
   ]
  },
  {
   "cell_type": "code",
   "execution_count": 8,
   "id": "a1f912b9",
   "metadata": {},
   "outputs": [
    {
     "data": {
      "text/plain": [
       "(232365, 28, 28)"
      ]
     },
     "execution_count": 8,
     "metadata": {},
     "output_type": "execute_result"
    }
   ],
   "source": [
    "X_tr.shape"
   ]
  },
  {
   "cell_type": "code",
   "execution_count": 9,
   "id": "3c609db1",
   "metadata": {},
   "outputs": [
    {
     "data": {
      "text/plain": [
       "(232365, 784)"
      ]
     },
     "execution_count": 9,
     "metadata": {},
     "output_type": "execute_result"
    }
   ],
   "source": [
    "X_tr = X_tr.reshape((X_tr.shape[0], 28*28))\n",
    "X_tr.shape"
   ]
  },
  {
   "cell_type": "code",
   "execution_count": 10,
   "id": "b1075194-d32a-407a-b452-8b39deac8c48",
   "metadata": {},
   "outputs": [
    {
     "data": {
      "text/plain": [
       "(38547, 28, 28)"
      ]
     },
     "execution_count": 10,
     "metadata": {},
     "output_type": "execute_result"
    }
   ],
   "source": [
    "X_val.shape"
   ]
  },
  {
   "cell_type": "code",
   "execution_count": 11,
   "id": "b210b40e-26f3-434c-bca0-37dc3d864d18",
   "metadata": {},
   "outputs": [
    {
     "data": {
      "text/plain": [
       "(38547, 784)"
      ]
     },
     "execution_count": 11,
     "metadata": {},
     "output_type": "execute_result"
    }
   ],
   "source": [
    "X_val = X_val.reshape((X_val.shape[0], 28*28))\n",
    "X_val.shape"
   ]
  },
  {
   "cell_type": "markdown",
   "id": "c9e39edc-ae9f-4c85-a5fa-1e838a546899",
   "metadata": {},
   "source": [
    "We'll also make a helper function to display a given sample"
   ]
  },
  {
   "cell_type": "code",
   "execution_count": 12,
   "id": "44122f27-52fd-44ae-ac29-ef9e8a118a6e",
   "metadata": {},
   "outputs": [],
   "source": [
    "def display_sample(sample, shape=(28,28), figsize=(4,4)):\n",
    "    reshaped = sample.reshape(shape)\n",
    "    scaled = sample * 255\n",
    "    plt.axis('off')\n",
    "#   plt.figure(figsize=figsize)\n",
    "    plt.imshow(reshaped, cmap='Greys', interpolation='nearest')"
   ]
  },
  {
   "cell_type": "code",
   "execution_count": 13,
   "id": "6bdba9f9-3988-4759-9c92-044f0d9a0fcd",
   "metadata": {
    "scrolled": false
   },
   "outputs": [
    {
     "data": {
      "image/png": "[encoded data removed]",
      "text/plain": [
       "<Figure size 432x288 with 1 Axes>"
      ]
     },
     "metadata": {
      "needs_background": "light"
     },
     "output_type": "display_data"
    }
   ],
   "source": [
    "display_sample(X_tr[0])"
   ]
  },
  {
   "cell_type": "markdown",
   "id": "5d874e07-f1ef-44ab-8fbf-5a363fda6a67",
   "metadata": {
    "tags": []
   },
   "source": [
    "## Preprocessing and Pipeline Creation"
   ]
  },
  {
   "cell_type": "code",
   "execution_count": 14,
   "id": "c6dbeb0d",
   "metadata": {},
   "outputs": [],
   "source": [
    "from sklearn.preprocessing import StandardScaler\n",
    "from sklearn.svm import SVC"
   ]
  },
  {
   "cell_type": "code",
   "execution_count": 15,
   "id": "88947e38",
   "metadata": {},
   "outputs": [
    {
     "data": {
      "text/plain": [
       "Pipeline(steps=[('scalar', StandardScaler()), ('svc', SVC())])"
      ]
     },
     "execution_count": 15,
     "metadata": {},
     "output_type": "execute_result"
    }
   ],
   "source": [
    "pipe = Pipeline([\n",
    "    ('scalar', StandardScaler()),\n",
    "    ('svc', SVC())\n",
    "])\n",
    "pipe"
   ]
  },
  {
   "cell_type": "markdown",
   "id": "c65d619c",
   "metadata": {},
   "source": [
    "## Fit and Predictions"
   ]
  },
  {
   "cell_type": "code",
   "execution_count": 16,
   "id": "9c7609fe",
   "metadata": {},
   "outputs": [],
   "source": [
    "import time"
   ]
  },
  {
   "cell_type": "code",
   "execution_count": 17,
   "id": "1f02acc8",
   "metadata": {},
   "outputs": [
    {
     "name": "stdout",
     "output_type": "stream",
     "text": [
      "7717.932411193848 seconds to train\n"
     ]
    }
   ],
   "source": [
    "start = time.time()\n",
    "pipe.fit(X_tr, Y_tr)\n",
    "stop = time.time()\n",
    "print(f\"{stop-start} seconds to train\")"
   ]
  },
  {
   "cell_type": "code",
   "execution_count": 19,
   "id": "ba41ae22",
   "metadata": {},
   "outputs": [
    {
     "data": {
      "text/plain": [
       "['svm-k49.joblib']"
      ]
     },
     "execution_count": 19,
     "metadata": {},
     "output_type": "execute_result"
    }
   ],
   "source": [
    "# save model\n",
    "from joblib import dump, load\n",
    "dump(pipe['svc'], f\"svm-{dataset}.joblib\")"
   ]
  },
  {
   "cell_type": "code",
   "execution_count": 20,
   "id": "310a5740",
   "metadata": {},
   "outputs": [
    {
     "name": "stdout",
     "output_type": "stream",
     "text": [
      "2953.7638251781464 seconds to predict\n"
     ]
    }
   ],
   "source": [
    "start = time.time()\n",
    "y_pred = pipe.predict(X_val)\n",
    "stop = time.time()\n",
    "print(f\"{stop-start} seconds to predict\")"
   ]
  },
  {
   "cell_type": "code",
   "execution_count": 21,
   "id": "d29cc2b4",
   "metadata": {},
   "outputs": [
    {
     "name": "stdout",
     "output_type": "stream",
     "text": [
      "              precision    recall  f1-score   support\n",
      "\n",
      "           0       0.89      0.84      0.86      1063\n",
      "           1       0.94      0.92      0.93      1025\n",
      "           2       0.91      0.78      0.84      1165\n",
      "           3       0.79      0.83      0.81       119\n",
      "           4       0.89      0.88      0.89      1010\n",
      "           5       0.78      0.84      0.81       928\n",
      "           6       0.81      0.82      0.82       992\n",
      "           7       0.87      0.84      0.85      1040\n",
      "           8       0.80      0.62      0.70       984\n",
      "           9       0.81      0.87      0.84       929\n",
      "          10       0.83      0.92      0.87       900\n",
      "          11       0.84      0.84      0.84       998\n",
      "          12       0.80      0.77      0.79      1044\n",
      "          13       0.68      0.81      0.74       572\n",
      "          14       0.64      0.80      0.71       500\n",
      "          15       0.83      0.81      0.82      1023\n",
      "          16       0.90      0.91      0.90       413\n",
      "          17       0.93      0.81      0.87      1140\n",
      "          18       0.87      0.86      0.86      1011\n",
      "          19       0.84      0.85      0.85       991\n",
      "          20       0.80      0.78      0.79      1026\n",
      "          21       0.81      0.79      0.80      1031\n",
      "          22       0.77      0.79      0.78       328\n",
      "          23       0.85      0.83      0.84       412\n",
      "          24       0.88      0.82      0.84      1072\n",
      "          25       0.78      0.94      0.85       836\n",
      "          26       0.86      0.96      0.91       748\n",
      "          27       0.78      0.90      0.84       870\n",
      "          28       0.85      0.96      0.90       889\n",
      "          29       0.77      0.89      0.82       280\n",
      "          30       0.86      0.75      0.80      1149\n",
      "          31       0.75      0.85      0.80       436\n",
      "          32       0.80      0.85      0.82       264\n",
      "          33       0.80      0.84      0.82       527\n",
      "          34       0.91      0.79      0.85      1151\n",
      "          35       0.86      0.89      0.87       968\n",
      "          36       0.82      0.87      0.84       246\n",
      "          37       0.94      0.90      0.92      1049\n",
      "          38       0.88      0.76      0.82      1156\n",
      "          39       0.82      0.85      0.83       970\n",
      "          40       0.77      0.87      0.82       891\n",
      "          41       0.90      0.84      0.87      1068\n",
      "          42       0.82      0.87      0.85       329\n",
      "          43       0.68      0.92      0.78       289\n",
      "          44       0.54      0.97      0.70        38\n",
      "          45       0.66      0.93      0.77        45\n",
      "          46       0.94      0.85      0.89      1111\n",
      "          47       0.96      0.93      0.94      1032\n",
      "          48       0.76      0.89      0.82       489\n",
      "\n",
      "    accuracy                           0.84     38547\n",
      "   macro avg       0.82      0.85      0.83     38547\n",
      "weighted avg       0.85      0.84      0.84     38547\n",
      "\n"
     ]
    }
   ],
   "source": [
    "print(classification_report(y_pred, Y_val, labels=[i for i in range(len(lookup_df))]))"
   ]
  },
  {
   "cell_type": "markdown",
   "id": "9de0f295-7d23-4006-8327-25c312f11089",
   "metadata": {
    "tags": []
   },
   "source": [
    "## Analysis"
   ]
  },
  {
   "cell_type": "code",
   "execution_count": null,
   "id": "dc5078c1",
   "metadata": {},
   "outputs": [],
   "source": []
  }
 ],
 "metadata": {
  "kernelspec": {
   "display_name": "Python 3 (ipykernel)",
   "language": "python",
   "name": "python3"
  },
  "language_info": {
   "codemirror_mode": {
    "name": "ipython",
    "version": 3
   },
   "file_extension": ".py",
   "mimetype": "text/x-python",
   "name": "python",
   "nbconvert_exporter": "python",
   "pygments_lexer": "ipython3",
   "version": "3.8.11"
  }
 },
 "nbformat": 4,
 "nbformat_minor": 5
}
