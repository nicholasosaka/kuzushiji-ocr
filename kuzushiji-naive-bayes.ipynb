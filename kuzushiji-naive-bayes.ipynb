{
 "cells": [
  {
   "cell_type": "markdown",
   "id": "43e78eeb",
   "metadata": {},
   "source": [
    "# Kuzushiji Character Recognition"
   ]
  },
  {
   "cell_type": "markdown",
   "id": "7a691195",
   "metadata": {},
   "source": [
    "## Imports and Configuration\n",
    "First, we need to import our libraries and set random seeds for when we do our train/test split"
   ]
  },
  {
   "cell_type": "code",
   "execution_count": 1,
   "id": "8ae6373e",
   "metadata": {},
   "outputs": [],
   "source": [
    "# import libraries\n",
    "import pandas as pd\n",
    "import numpy as np\n",
    "import random\n",
    "import matplotlib.pyplot as plt\n",
    "import seaborn as sns\n",
    "from sklearn.metrics import classification_report\n",
    "\n",
    "%matplotlib inline\n",
    "%load_ext autoreload\n",
    "%autoreload 2\n"
   ]
  },
  {
   "cell_type": "code",
   "execution_count": 2,
   "id": "7cf5860b",
   "metadata": {},
   "outputs": [],
   "source": [
    "# reproducibility\n",
    "np.random.seed(2021)\n",
    "random.seed(2021)"
   ]
  },
  {
   "cell_type": "markdown",
   "id": "fd097c12",
   "metadata": {},
   "source": [
    "## Dataset\n",
    "Our dataset (Kuzishiji-49 or KMNIST) already puts our data as numpy arrays, in a compressed `npz` format."
   ]
  },
  {
   "cell_type": "code",
   "execution_count": 43,
   "id": "e9abbcb1",
   "metadata": {},
   "outputs": [],
   "source": [
    "# load compressed numpy arrays\n",
    "dataset = \"kmnist\" # options are k49 or kmnist\n",
    "\n",
    "# train images\n",
    "with np.load(f'./datasets/{dataset}-train-imgs.npz') as data:\n",
    "    X_tr = data['arr_0']\n",
    "\n",
    "# train labels\n",
    "with np.load(f'./datasets/{dataset}-train-labels.npz') as data:\n",
    "    Y_tr = data['arr_0']\n",
    "    \n",
    "# validation images\n",
    "with np.load(f'./datasets/{dataset}-test-imgs.npz') as data:\n",
    "    X_val = data['arr_0']\n",
    "\n",
    "# validation labels\n",
    "with np.load(f'./datasets/{dataset}-test-labels.npz') as data:\n",
    "    Y_val = data['arr_0']"
   ]
  },
  {
   "cell_type": "markdown",
   "id": "bd12021e",
   "metadata": {},
   "source": [
    "If we take a look at our labels, we can see that they're just uints, so no need to do any conversions. We are provided with a classmap that maps numbers to unicode characters. We'll load that and make a helpful function to convert a label to a character."
   ]
  },
  {
   "cell_type": "code",
   "execution_count": 44,
   "id": "e94890bc",
   "metadata": {},
   "outputs": [
    {
     "data": {
      "text/plain": [
       "array([2, 9, 3, 8, 3, 3, 8, 3, 2, 5], dtype=uint8)"
      ]
     },
     "execution_count": 44,
     "metadata": {},
     "output_type": "execute_result"
    }
   ],
   "source": [
    "Y_val[:10]"
   ]
  },
  {
   "cell_type": "code",
   "execution_count": 45,
   "id": "6ce11743",
   "metadata": {},
   "outputs": [],
   "source": [
    "# create lookup table + conversion function to convert label to UTF-8 char\n",
    "lookup_df = pd.read_csv(f'./datasets/{dataset}_classmap.csv')\n",
    "lookup_df = lookup_df[['codepoint', 'char']]\n",
    "\n",
    "def label_to_char(label):\n",
    "    return lookup_df.iloc[label]['char']"
   ]
  },
  {
   "cell_type": "code",
   "execution_count": 46,
   "id": "c52111a9",
   "metadata": {},
   "outputs": [
    {
     "data": {
      "text/plain": [
       "2    す\n",
       "9    を\n",
       "3    つ\n",
       "8    れ\n",
       "3    つ\n",
       "3    つ\n",
       "8    れ\n",
       "3    つ\n",
       "2    す\n",
       "5    は\n",
       "Name: char, dtype: object"
      ]
     },
     "execution_count": 46,
     "metadata": {},
     "output_type": "execute_result"
    }
   ],
   "source": [
    "label_to_char(Y_val[:10])"
   ]
  },
  {
   "cell_type": "markdown",
   "id": "b00bf9d2",
   "metadata": {},
   "source": [
    "Taking a look at the shapes of our data and the quantity of samples we have:"
   ]
  },
  {
   "cell_type": "code",
   "execution_count": 47,
   "id": "d793e9cf",
   "metadata": {},
   "outputs": [
    {
     "name": "stdout",
     "output_type": "stream",
     "text": [
      "# of training instances: 60000\n",
      "# of validation instances: 10000\n",
      "Total # of instances: 70000\n",
      "\n",
      "\n",
      "Shape of training instance features: (28, 28)\n",
      "Shape of validation instance features: (28, 28)\n"
     ]
    }
   ],
   "source": [
    "print(\"# of training instances:\", X_tr.shape[0])\n",
    "print(\"# of validation instances:\", X_val.shape[0])\n",
    "print(\"Total # of instances:\", X_tr.shape[0] + X_val.shape[0])\n",
    "print(\"\\n\")\n",
    "print(\"Shape of training instance features:\", X_tr.shape[1:])\n",
    "print(\"Shape of validation instance features:\", X_val.shape[1:])"
   ]
  },
  {
   "cell_type": "markdown",
   "id": "aeef1dee",
   "metadata": {},
   "source": [
    "Instead of having features in the shape of (28, 28), let's reshape our features to (784,) so that we can easily manipulate these arrays."
   ]
  },
  {
   "cell_type": "code",
   "execution_count": 48,
   "id": "a1f912b9",
   "metadata": {},
   "outputs": [
    {
     "data": {
      "text/plain": [
       "(60000, 28, 28)"
      ]
     },
     "execution_count": 48,
     "metadata": {},
     "output_type": "execute_result"
    }
   ],
   "source": [
    "X_tr.shape"
   ]
  },
  {
   "cell_type": "code",
   "execution_count": 49,
   "id": "3c609db1",
   "metadata": {},
   "outputs": [
    {
     "data": {
      "text/plain": [
       "(60000, 784)"
      ]
     },
     "execution_count": 49,
     "metadata": {},
     "output_type": "execute_result"
    }
   ],
   "source": [
    "X_tr = X_tr.reshape((X_tr.shape[0], 28*28))\n",
    "X_tr.shape"
   ]
  },
  {
   "cell_type": "code",
   "execution_count": 50,
   "id": "b1075194-d32a-407a-b452-8b39deac8c48",
   "metadata": {},
   "outputs": [
    {
     "data": {
      "text/plain": [
       "(10000, 28, 28)"
      ]
     },
     "execution_count": 50,
     "metadata": {},
     "output_type": "execute_result"
    }
   ],
   "source": [
    "X_val.shape"
   ]
  },
  {
   "cell_type": "code",
   "execution_count": 51,
   "id": "b210b40e-26f3-434c-bca0-37dc3d864d18",
   "metadata": {},
   "outputs": [
    {
     "data": {
      "text/plain": [
       "(10000, 784)"
      ]
     },
     "execution_count": 51,
     "metadata": {},
     "output_type": "execute_result"
    }
   ],
   "source": [
    "X_val = X_val.reshape((X_val.shape[0], 28*28))\n",
    "X_val.shape"
   ]
  },
  {
   "cell_type": "markdown",
   "id": "c9e39edc-ae9f-4c85-a5fa-1e838a546899",
   "metadata": {},
   "source": [
    "We'll also make a helper function to display a given sample"
   ]
  },
  {
   "cell_type": "code",
   "execution_count": 69,
   "id": "44122f27-52fd-44ae-ac29-ef9e8a118a6e",
   "metadata": {},
   "outputs": [],
   "source": [
    "def display_sample(sample, shape=(28,28), figsize=(4,4)):\n",
    "    reshaped = sample.reshape(shape)\n",
    "    scaled = sample * 255\n",
    "    plt.axis('off')\n",
    "    plt.imshow(reshaped, cmap='Greys', interpolation='nearest')"
   ]
  },
  {
   "cell_type": "code",
   "execution_count": 78,
   "id": "6bdba9f9-3988-4759-9c92-044f0d9a0fcd",
   "metadata": {
    "scrolled": false
   },
   "outputs": [
    {
     "data": {
      "image/png": "[encoded data removed]",
      "text/plain": [
       "<Figure size 432x288 with 1 Axes>"
      ]
     },
     "metadata": {
      "needs_background": "light"
     },
     "output_type": "display_data"
    }
   ],
   "source": [
    "display_sample(X_tr[1])"
   ]
  },
  {
   "cell_type": "markdown",
   "id": "5d874e07-f1ef-44ab-8fbf-5a363fda6a67",
   "metadata": {
    "tags": []
   },
   "source": [
    "## Preprocessing"
   ]
  },
  {
   "cell_type": "code",
   "execution_count": 54,
   "id": "c6dbeb0d",
   "metadata": {},
   "outputs": [],
   "source": [
    "from sklearn.preprocessing import StandardScaler\n",
    "scaler = StandardScaler()"
   ]
  },
  {
   "cell_type": "code",
   "execution_count": 55,
   "id": "3e8046b9-23a1-4450-925e-d4d603d18efb",
   "metadata": {},
   "outputs": [],
   "source": [
    "scaler.fit(X_tr)\n",
    "X_tr_scaled = scaler.transform(X_tr)"
   ]
  },
  {
   "cell_type": "code",
   "execution_count": 56,
   "id": "9f655d4d-d347-489b-961b-3096863801ea",
   "metadata": {},
   "outputs": [],
   "source": [
    "# scaler.fit(X_val)\n",
    "X_val_scaled = scaler.transform(X_val)"
   ]
  },
  {
   "cell_type": "code",
   "execution_count": 57,
   "id": "7fad2e22",
   "metadata": {},
   "outputs": [
    {
     "data": {
      "text/plain": [
       "(60000, 784)"
      ]
     },
     "execution_count": 57,
     "metadata": {},
     "output_type": "execute_result"
    }
   ],
   "source": [
    "X_tr_scaled.shape"
   ]
  },
  {
   "cell_type": "code",
   "execution_count": 58,
   "id": "214ad216",
   "metadata": {},
   "outputs": [
    {
     "data": {
      "text/plain": [
       "array([-0.048874  , -0.07068155, -0.09044445, -0.11705515, -0.15074494,\n",
       "       -0.19160088, -0.234532  , -0.2829181 , -0.13461748, -0.25769268,\n",
       "        3.23027834,  0.77484398, -0.5144033 , -0.53122308, -0.07607864,\n",
       "        1.01300055, -0.39067629, -0.32422444, -0.27713853, -0.24852517,\n",
       "       -0.22404558, -0.1964508 , -0.16753   , -0.13564714, -0.10334629])"
      ]
     },
     "execution_count": 58,
     "metadata": {},
     "output_type": "execute_result"
    }
   ],
   "source": [
    "X_tr_scaled[0][:25]"
   ]
  },
  {
   "cell_type": "markdown",
   "id": "9de0f295-7d23-4006-8327-25c312f11089",
   "metadata": {
    "tags": []
   },
   "source": [
    "## Naive Bayes"
   ]
  },
  {
   "cell_type": "code",
   "execution_count": 59,
   "id": "cbbfa426",
   "metadata": {},
   "outputs": [],
   "source": [
    "# import NaiveBayes from sklearn \n",
    "from sklearn.naive_bayes import CategoricalNB\n",
    "kzsj_nb = CategoricalNB()"
   ]
  },
  {
   "cell_type": "code",
   "execution_count": 60,
   "id": "9077f966-f80b-4eac-ac81-4da4e44f5ed7",
   "metadata": {},
   "outputs": [
    {
     "data": {
      "text/plain": [
       "CategoricalNB()"
      ]
     },
     "execution_count": 60,
     "metadata": {},
     "output_type": "execute_result"
    }
   ],
   "source": [
    "kzsj_nb.fit(X_tr_scaled, Y_tr)"
   ]
  },
  {
   "cell_type": "code",
   "execution_count": 61,
   "id": "5f4b4a3d-3a96-4b39-ade6-c7ce492404a1",
   "metadata": {
    "scrolled": false
   },
   "outputs": [
    {
     "data": {
      "text/plain": [
       "array([2, 2, 3, 0, 3, 1, 3, 2, 9, 5], dtype=uint8)"
      ]
     },
     "execution_count": 61,
     "metadata": {},
     "output_type": "execute_result"
    }
   ],
   "source": [
    "y_pred = kzsj_nb.predict(X_val_scaled)\n",
    "y_pred[:10]"
   ]
  },
  {
   "cell_type": "code",
   "execution_count": 62,
   "id": "583ad48d-7c7e-4789-925f-61a9bf2b0650",
   "metadata": {},
   "outputs": [
    {
     "data": {
      "text/plain": [
       "array([2, 9, 3, 8, 3, 3, 8, 3, 2, 5], dtype=uint8)"
      ]
     },
     "execution_count": 62,
     "metadata": {},
     "output_type": "execute_result"
    }
   ],
   "source": [
    "Y_val[:10]"
   ]
  },
  {
   "cell_type": "code",
   "execution_count": 66,
   "id": "77ded751-1521-4edc-881d-d5cb71cf8fa1",
   "metadata": {},
   "outputs": [
    {
     "name": "stdout",
     "output_type": "stream",
     "text": [
      "              precision    recall  f1-score   support\n",
      "\n",
      "           0       0.67      0.84      0.74       803\n",
      "           1       0.52      0.51      0.52      1009\n",
      "           2       0.56      0.28      0.37      2024\n",
      "           3       0.62      0.62      0.62       997\n",
      "           4       0.50      0.49      0.49      1037\n",
      "           5       0.24      0.41      0.31       595\n",
      "           6       0.55      0.56      0.55       979\n",
      "           7       0.41      0.69      0.52       596\n",
      "           8       0.50      0.45      0.47      1106\n",
      "           9       0.46      0.54      0.50       854\n",
      "\n",
      "    accuracy                           0.50     10000\n",
      "   macro avg       0.50      0.54      0.51     10000\n",
      "weighted avg       0.52      0.50      0.50     10000\n",
      "\n"
     ]
    }
   ],
   "source": [
    "print(classification_report(y_pred, Y_val, labels=[i for i in range(len(lookup_df))]))"
   ]
  },
  {
   "cell_type": "code",
   "execution_count": null,
   "id": "0188d73a",
   "metadata": {},
   "outputs": [],
   "source": []
  }
 ],
 "metadata": {
  "kernelspec": {
   "display_name": "Python 3 (ipykernel)",
   "language": "python",
   "name": "python3"
  },
  "language_info": {
   "codemirror_mode": {
    "name": "ipython",
    "version": 3
   },
   "file_extension": ".py",
   "mimetype": "text/x-python",
   "name": "python",
   "nbconvert_exporter": "python",
   "pygments_lexer": "ipython3",
   "version": "3.8.11"
  }
 },
 "nbformat": 4,
 "nbformat_minor": 5
}
