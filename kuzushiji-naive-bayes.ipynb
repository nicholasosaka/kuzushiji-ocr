{
 "cells": [
  {
   "cell_type": "markdown",
   "id": "43e78eeb",
   "metadata": {},
   "source": [
    "# Kuzushiji Character Recognition"
   ]
  },
  {
   "cell_type": "markdown",
   "id": "7a691195",
   "metadata": {},
   "source": [
    "## Imports and Configuration\n",
    "First, we need to import our libraries and set random seeds for when we do our train/test split"
   ]
  },
  {
   "cell_type": "code",
   "execution_count": 1,
   "id": "8ae6373e",
   "metadata": {},
   "outputs": [],
   "source": [
    "# import libraries\n",
    "import pandas as pd\n",
    "import numpy as np\n",
    "import random\n",
    "import matplotlib.pyplot as plt\n",
    "import seaborn as sns\n",
    "from sklearn.metrics import classification_report\n",
    "\n",
    "%matplotlib inline\n",
    "%load_ext autoreload\n",
    "%autoreload 2\n"
   ]
  },
  {
   "cell_type": "code",
   "execution_count": 2,
   "id": "7cf5860b",
   "metadata": {},
   "outputs": [],
   "source": [
    "# reproducibility\n",
    "np.random.seed(2021)\n",
    "random.seed(2021)"
   ]
  },
  {
   "cell_type": "markdown",
   "id": "fd097c12",
   "metadata": {},
   "source": [
    "## Dataset\n",
    "Our dataset (Kuzishiji-49) already puts our data as numpy arrays, in a compressed `npz` format."
   ]
  },
  {
   "cell_type": "code",
   "execution_count": 3,
   "id": "e9abbcb1",
   "metadata": {},
   "outputs": [],
   "source": [
    "# load compressed numpy arrays\n",
    "\n",
    "# train images\n",
    "with np.load('./kuzushiji-49/k49-train-imgs.npz') as data:\n",
    "    X_tr = data['arr_0']\n",
    "\n",
    "# train labels\n",
    "with np.load('./kuzushiji-49/k49-train-labels.npz') as data:\n",
    "    Y_tr = data['arr_0']\n",
    "    \n",
    "# validation images\n",
    "with np.load('./kuzushiji-49/k49-val-imgs.npz') as data:\n",
    "    X_val = data['arr_0']\n",
    "\n",
    "# validation labels\n",
    "with np.load('./kuzushiji-49/k49-val-labels.npz') as data:\n",
    "    Y_val = data['arr_0']"
   ]
  },
  {
   "cell_type": "markdown",
   "id": "bd12021e",
   "metadata": {},
   "source": [
    "If we take a look at our labels, we can see that they're just uints, so no need to do any conversions. We are provided with a classmap that maps numbers to unicode characters. We'll load that and make a helpful function to convert a label to a character."
   ]
  },
  {
   "cell_type": "code",
   "execution_count": 4,
   "id": "e94890bc",
   "metadata": {},
   "outputs": [
    {
     "data": {
      "text/plain": [
       "array([19, 23, 10, 31, 26, 12, 24,  9, 24,  8], dtype=uint8)"
      ]
     },
     "execution_count": 4,
     "metadata": {},
     "output_type": "execute_result"
    }
   ],
   "source": [
    "Y_val[:10]"
   ]
  },
  {
   "cell_type": "code",
   "execution_count": 5,
   "id": "6ce11743",
   "metadata": {},
   "outputs": [],
   "source": [
    "# create lookup table + conversion function to convert label to UTF-8 char\n",
    "lookup_df = pd.read_csv('./kuzushiji-49/k49_classmap.csv')\n",
    "lookup_df = lookup_df[['codepoint', 'char']]\n",
    "\n",
    "def label_to_char(label):\n",
    "    return lookup_df.iloc[label]['char']"
   ]
  },
  {
   "cell_type": "code",
   "execution_count": 6,
   "id": "c52111a9",
   "metadata": {},
   "outputs": [
    {
     "data": {
      "text/plain": [
       "19    と\n",
       "23    ね\n",
       "10    さ\n",
       "31    み\n",
       "26    ひ\n",
       "12    す\n",
       "24    の\n",
       "9     こ\n",
       "24    の\n",
       "8     け\n",
       "Name: char, dtype: object"
      ]
     },
     "execution_count": 6,
     "metadata": {},
     "output_type": "execute_result"
    }
   ],
   "source": [
    "label_to_char(Y_val[:10])"
   ]
  },
  {
   "cell_type": "markdown",
   "id": "b00bf9d2",
   "metadata": {},
   "source": [
    "Taking a look at the shapes of our data and the quantity of samples we have:"
   ]
  },
  {
   "cell_type": "code",
   "execution_count": 7,
   "id": "d793e9cf",
   "metadata": {},
   "outputs": [
    {
     "name": "stdout",
     "output_type": "stream",
     "text": [
      "# of training instances: 232365\n",
      "# of validation instances: 38547\n",
      "Total # of instances: 270912\n",
      "\n",
      "\n",
      "Shape of training instance features: (28, 28)\n",
      "Shape of validation instance features: (28, 28)\n"
     ]
    }
   ],
   "source": [
    "print(\"# of training instances:\", X_tr.shape[0])\n",
    "print(\"# of validation instances:\", X_val.shape[0])\n",
    "print(\"Total # of instances:\", X_tr.shape[0] + X_val.shape[0])\n",
    "print(\"\\n\")\n",
    "print(\"Shape of training instance features:\", X_tr.shape[1:])\n",
    "print(\"Shape of validation instance features:\", X_val.shape[1:])"
   ]
  },
  {
   "cell_type": "markdown",
   "id": "aeef1dee",
   "metadata": {},
   "source": [
    "Instead of having features in the shape of (28, 28), let's reshape our features to (784,) so that we can easily manipulate these arrays."
   ]
  },
  {
   "cell_type": "code",
   "execution_count": 8,
   "id": "a1f912b9",
   "metadata": {},
   "outputs": [
    {
     "data": {
      "text/plain": [
       "(232365, 28, 28)"
      ]
     },
     "execution_count": 8,
     "metadata": {},
     "output_type": "execute_result"
    }
   ],
   "source": [
    "X_tr.shape"
   ]
  },
  {
   "cell_type": "code",
   "execution_count": 9,
   "id": "3c609db1",
   "metadata": {},
   "outputs": [
    {
     "data": {
      "text/plain": [
       "(232365, 784)"
      ]
     },
     "execution_count": 9,
     "metadata": {},
     "output_type": "execute_result"
    }
   ],
   "source": [
    "X_tr = X_tr.reshape((232365, 28*28))\n",
    "X_tr.shape"
   ]
  },
  {
   "cell_type": "code",
   "execution_count": 10,
   "id": "b1075194-d32a-407a-b452-8b39deac8c48",
   "metadata": {},
   "outputs": [
    {
     "data": {
      "text/plain": [
       "(38547, 28, 28)"
      ]
     },
     "execution_count": 10,
     "metadata": {},
     "output_type": "execute_result"
    }
   ],
   "source": [
    "X_val.shape"
   ]
  },
  {
   "cell_type": "code",
   "execution_count": 11,
   "id": "b210b40e-26f3-434c-bca0-37dc3d864d18",
   "metadata": {},
   "outputs": [
    {
     "data": {
      "text/plain": [
       "(38547, 784)"
      ]
     },
     "execution_count": 11,
     "metadata": {},
     "output_type": "execute_result"
    }
   ],
   "source": [
    "X_val = X_val.reshape((38547, 28*28))\n",
    "X_val.shape"
   ]
  },
  {
   "cell_type": "markdown",
   "id": "c9e39edc-ae9f-4c85-a5fa-1e838a546899",
   "metadata": {},
   "source": [
    "We'll also make a helper function to display a given sample"
   ]
  },
  {
   "cell_type": "code",
   "execution_count": 12,
   "id": "44122f27-52fd-44ae-ac29-ef9e8a118a6e",
   "metadata": {},
   "outputs": [],
   "source": [
    "def display_sample(sample, shape=(28,28), figsize=(4,4)):\n",
    "    reshaped = sample.reshape(shape)\n",
    "    scaled = sample * 255\n",
    "    plt.axis('off')\n",
    "#   plt.figure(figsize=figsize)\n",
    "    plt.imshow(reshaped, cmap='Greys', interpolation='nearest')"
   ]
  },
  {
   "cell_type": "code",
   "execution_count": 13,
   "id": "6bdba9f9-3988-4759-9c92-044f0d9a0fcd",
   "metadata": {
    "scrolled": false
   },
   "outputs": [
    {
     "data": {
      "image/png": "[encoded data removed]",
      "text/plain": [
       "<Figure size 432x288 with 1 Axes>"
      ]
     },
     "metadata": {
      "needs_background": "light"
     },
     "output_type": "display_data"
    }
   ],
   "source": [
    "display_sample(X_tr[0])"
   ]
  },
  {
   "cell_type": "markdown",
   "id": "5d874e07-f1ef-44ab-8fbf-5a363fda6a67",
   "metadata": {
    "tags": []
   },
   "source": [
    "## Preprocessing"
   ]
  },
  {
   "cell_type": "code",
   "execution_count": 22,
   "id": "c6dbeb0d",
   "metadata": {},
   "outputs": [],
   "source": [
    "from sklearn.preprocessing import StandardScaler\n",
    "scaler = StandardScaler()"
   ]
  },
  {
   "cell_type": "code",
   "execution_count": 23,
   "id": "3e8046b9-23a1-4450-925e-d4d603d18efb",
   "metadata": {},
   "outputs": [],
   "source": [
    "scaler.fit(X_tr)\n",
    "X_tr_scaled = scaler.transform(X_tr)"
   ]
  },
  {
   "cell_type": "code",
   "execution_count": 24,
   "id": "9f655d4d-d347-489b-961b-3096863801ea",
   "metadata": {},
   "outputs": [],
   "source": [
    "# scaler.fit(X_val)\n",
    "X_val_scaled = scaler.transform(X_val)"
   ]
  },
  {
   "cell_type": "code",
   "execution_count": 25,
   "id": "76da0974",
   "metadata": {},
   "outputs": [
    {
     "data": {
      "text/plain": [
       "(232365, 784)"
      ]
     },
     "execution_count": 25,
     "metadata": {},
     "output_type": "execute_result"
    }
   ],
   "source": [
    "X_tr_scaled.shape"
   ]
  },
  {
   "cell_type": "code",
   "execution_count": 42,
   "id": "33d15d40",
   "metadata": {},
   "outputs": [
    {
     "data": {
      "text/plain": [
       "array([-0.05022437, -0.0752899 , -0.0985739 , -0.1263021 , -0.1586886 ,\n",
       "       -0.19495544, -0.23656815, -0.28517693, -0.07149167,  1.9564926 ,\n",
       "        3.08829427,  1.99801996,  0.18460652, -0.49427858, -0.55914342,\n",
       "       -0.47865337, -0.46061543, -0.33699791, -0.28823661, -0.29083113,\n",
       "       -0.24735166, -0.20969678, -0.17497405, -0.14251326, -0.11260953])"
      ]
     },
     "execution_count": 42,
     "metadata": {},
     "output_type": "execute_result"
    }
   ],
   "source": [
    "X_tr_scaled[0][:25]"
   ]
  },
  {
   "cell_type": "markdown",
   "id": "9de0f295-7d23-4006-8327-25c312f11089",
   "metadata": {
    "tags": []
   },
   "source": [
    "## Naive Bayes"
   ]
  },
  {
   "cell_type": "code",
   "execution_count": 27,
   "id": "cbbfa426",
   "metadata": {},
   "outputs": [],
   "source": [
    "# import NaiveBayes from sklearn \n",
    "from sklearn.naive_bayes import CategoricalNB\n",
    "kzsj_nb = CategoricalNB()"
   ]
  },
  {
   "cell_type": "code",
   "execution_count": 28,
   "id": "9077f966-f80b-4eac-ac81-4da4e44f5ed7",
   "metadata": {},
   "outputs": [
    {
     "data": {
      "text/plain": [
       "CategoricalNB()"
      ]
     },
     "execution_count": 28,
     "metadata": {},
     "output_type": "execute_result"
    }
   ],
   "source": [
    "kzsj_nb.fit(X_tr_scaled, Y_tr)"
   ]
  },
  {
   "cell_type": "code",
   "execution_count": 29,
   "id": "5f4b4a3d-3a96-4b39-ade6-c7ce492404a1",
   "metadata": {
    "scrolled": false
   },
   "outputs": [
    {
     "data": {
      "text/plain": [
       "array([19, 23, 48,  3, 32, 21, 24, 44, 24,  8], dtype=uint8)"
      ]
     },
     "execution_count": 29,
     "metadata": {},
     "output_type": "execute_result"
    }
   ],
   "source": [
    "y_pred = kzsj_nb.predict(X_val_scaled)\n",
    "y_pred[:10]"
   ]
  },
  {
   "cell_type": "code",
   "execution_count": 30,
   "id": "583ad48d-7c7e-4789-925f-61a9bf2b0650",
   "metadata": {},
   "outputs": [
    {
     "data": {
      "text/plain": [
       "array([19, 23, 10, 31, 26, 12, 24,  9, 24,  8], dtype=uint8)"
      ]
     },
     "execution_count": 30,
     "metadata": {},
     "output_type": "execute_result"
    }
   ],
   "source": [
    "Y_val[:10]"
   ]
  },
  {
   "cell_type": "code",
   "execution_count": 31,
   "id": "77ded751-1521-4edc-881d-d5cb71cf8fa1",
   "metadata": {},
   "outputs": [
    {
     "name": "stdout",
     "output_type": "stream",
     "text": [
      "              precision    recall  f1-score   support\n",
      "\n",
      "           0       0.30      0.46      0.36       651\n",
      "           1       0.73      0.81      0.77       897\n",
      "           2       0.84      0.45      0.58      1892\n",
      "           3       0.53      0.24      0.33       284\n",
      "           4       0.52      0.67      0.58       781\n",
      "           5       0.14      0.37      0.21       390\n",
      "           6       0.19      0.36      0.25       541\n",
      "           7       0.49      0.54      0.52       905\n",
      "           8       0.30      0.21      0.25      1101\n",
      "           9       0.35      0.65      0.46       542\n",
      "          10       0.47      0.60      0.53       771\n",
      "          11       0.55      0.23      0.32      2452\n",
      "          12       0.10      0.20      0.13       483\n",
      "          13       0.47      0.50      0.49       645\n",
      "          14       0.38      0.43      0.40       562\n",
      "          15       0.23      0.35      0.27       652\n",
      "          16       0.67      0.45      0.54       614\n",
      "          17       0.39      0.48      0.43       825\n",
      "          18       0.43      0.58      0.49       735\n",
      "          19       0.32      0.36      0.34       878\n",
      "          20       0.24      0.37      0.29       648\n",
      "          21       0.21      0.49      0.29       424\n",
      "          22       0.57      0.30      0.39       642\n",
      "          23       0.46      0.16      0.24      1149\n",
      "          24       0.48      0.49      0.48       969\n",
      "          25       0.27      0.40      0.32       661\n",
      "          26       0.57      0.56      0.57       843\n",
      "          27       0.53      0.64      0.58       825\n",
      "          28       0.77      0.78      0.77       989\n",
      "          29       0.34      0.33      0.33       330\n",
      "          30       0.28      0.56      0.37       505\n",
      "          31       0.23      0.27      0.25       421\n",
      "          32       0.71      0.34      0.46       578\n",
      "          33       0.39      0.48      0.43       454\n",
      "          34       0.46      0.34      0.39      1337\n",
      "          35       0.41      0.62      0.49       661\n",
      "          36       0.43      0.21      0.29       517\n",
      "          37       0.73      0.48      0.58      1521\n",
      "          38       0.30      0.19      0.24      1576\n",
      "          39       0.30      0.17      0.22      1783\n",
      "          40       0.24      0.33      0.28       744\n",
      "          41       0.19      0.26      0.22       739\n",
      "          42       0.45      0.31      0.37       515\n",
      "          43       0.31      0.33      0.32       372\n",
      "          44       0.40      0.16      0.23       169\n",
      "          45       0.52      0.09      0.16       348\n",
      "          46       0.49      0.66      0.56       742\n",
      "          47       0.77      0.71      0.74      1078\n",
      "          48       0.34      0.48      0.40       406\n",
      "\n",
      "    accuracy                           0.41     38547\n",
      "   macro avg       0.42      0.42      0.40     38547\n",
      "weighted avg       0.46      0.41      0.41     38547\n",
      "\n"
     ]
    }
   ],
   "source": [
    "print(classification_report(y_pred, Y_val, labels=[i for i in range(49)]))"
   ]
  }
 ],
 "metadata": {
  "kernelspec": {
   "display_name": "Python 3 (ipykernel)",
   "language": "python",
   "name": "python3"
  },
  "language_info": {
   "codemirror_mode": {
    "name": "ipython",
    "version": 3
   },
   "file_extension": ".py",
   "mimetype": "text/x-python",
   "name": "python",
   "nbconvert_exporter": "python",
   "pygments_lexer": "ipython3",
   "version": "3.8.11"
  }
 },
 "nbformat": 4,
 "nbformat_minor": 5
}
