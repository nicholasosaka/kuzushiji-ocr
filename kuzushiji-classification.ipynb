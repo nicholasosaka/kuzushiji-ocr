{
 "cells": [
  {
   "cell_type": "markdown",
   "id": "43e78eeb",
   "metadata": {},
   "source": [
    "# Kuzushiji Character Recognition"
   ]
  },
  {
   "cell_type": "markdown",
   "id": "7a691195",
   "metadata": {},
   "source": [
    "## Imports and Configuration\n",
    "First, we need to import our libraries and set random seeds for when we do our train/test split"
   ]
  },
  {
   "cell_type": "code",
   "execution_count": 11,
   "id": "8ae6373e",
   "metadata": {},
   "outputs": [
    {
     "name": "stdout",
     "output_type": "stream",
     "text": [
      "The autoreload extension is already loaded. To reload it, use:\n",
      "  %reload_ext autoreload\n"
     ]
    }
   ],
   "source": [
    "# import libraries\n",
    "import pandas as pd\n",
    "import numpy as np\n",
    "import random\n",
    "import matplotlib.pyplot as plt\n",
    "import seaborn as sns\n",
    "\n",
    "%matplotlib inline\n",
    "%load_ext autoreload\n",
    "%autoreload 2\n"
   ]
  },
  {
   "cell_type": "code",
   "execution_count": 12,
   "id": "7cf5860b",
   "metadata": {},
   "outputs": [],
   "source": [
    "# reproducibility\n",
    "np.random.seed(2021)\n",
    "random.seed(2021)"
   ]
  },
  {
   "cell_type": "markdown",
   "id": "fd097c12",
   "metadata": {},
   "source": [
    "## Dataset\n",
    "Our dataset (Kuzishiji-49) already puts our data as numpy arrays, in a compressed `npz` format."
   ]
  },
  {
   "cell_type": "code",
   "execution_count": 13,
   "id": "e9abbcb1",
   "metadata": {},
   "outputs": [],
   "source": [
    "# load compressed numpy arrays\n",
    "\n",
    "# train images\n",
    "with np.load('./kuzushiji-49/k49-train-imgs.npz') as data:\n",
    "    X_tr = data['arr_0']\n",
    "\n",
    "# train labels\n",
    "with np.load('./kuzushiji-49/k49-train-labels.npz') as data:\n",
    "    Y_tr = data['arr_0']\n",
    "    \n",
    "# validation images\n",
    "with np.load('./kuzushiji-49/k49-val-imgs.npz') as data:\n",
    "    X_val = data['arr_0']\n",
    "\n",
    "# validation labels\n",
    "with np.load('./kuzushiji-49/k49-val-labels.npz') as data:\n",
    "    Y_val = data['arr_0']"
   ]
  },
  {
   "cell_type": "markdown",
   "id": "bd12021e",
   "metadata": {},
   "source": [
    "If we take a look at our labels, we can see that they're just uints, so no need to do any conversions. We are provided with a classmap that maps numbers to unicode characters. We'll load that and make a helpful function to convert a label to a character."
   ]
  },
  {
   "cell_type": "code",
   "execution_count": 14,
   "id": "e94890bc",
   "metadata": {},
   "outputs": [
    {
     "data": {
      "text/plain": [
       "array([19, 23, 10, 31, 26, 12, 24,  9, 24,  8], dtype=uint8)"
      ]
     },
     "execution_count": 14,
     "metadata": {},
     "output_type": "execute_result"
    }
   ],
   "source": [
    "Y_val[:10]"
   ]
  },
  {
   "cell_type": "code",
   "execution_count": 15,
   "id": "6ce11743",
   "metadata": {},
   "outputs": [],
   "source": [
    "# create lookup table + conversion function to convert label to UTF-8 char\n",
    "lookup_df = pd.read_csv('./kuzushiji-49/k49_classmap.csv')\n",
    "lookup_df = lookup_df[['codepoint', 'char']]\n",
    "\n",
    "def label_to_char(label):\n",
    "    return lookup_df.iloc[label]['char']"
   ]
  },
  {
   "cell_type": "code",
   "execution_count": 16,
   "id": "c52111a9",
   "metadata": {},
   "outputs": [
    {
     "data": {
      "text/plain": [
       "19    と\n",
       "23    ね\n",
       "10    さ\n",
       "31    み\n",
       "26    ひ\n",
       "12    す\n",
       "24    の\n",
       "9     こ\n",
       "24    の\n",
       "8     け\n",
       "Name: char, dtype: object"
      ]
     },
     "execution_count": 16,
     "metadata": {},
     "output_type": "execute_result"
    }
   ],
   "source": [
    "label_to_char(Y_val[:10])"
   ]
  },
  {
   "cell_type": "markdown",
   "id": "b00bf9d2",
   "metadata": {},
   "source": [
    "Taking a look at the shapes of our data and the quantity of samples we have:"
   ]
  },
  {
   "cell_type": "code",
   "execution_count": 17,
   "id": "d793e9cf",
   "metadata": {},
   "outputs": [
    {
     "name": "stdout",
     "output_type": "stream",
     "text": [
      "# of training instances: 232365\n",
      "# of validation instances: 38547\n",
      "Total # of instances: 270912\n",
      "\n",
      "\n",
      "Shape of training instance features: (28, 28)\n",
      "Shape of validation instance features: (28, 28)\n"
     ]
    }
   ],
   "source": [
    "print(\"# of training instances:\", X_tr.shape[0])\n",
    "print(\"# of validation instances:\", X_val.shape[0])\n",
    "print(\"Total # of instances:\", X_tr.shape[0] + X_val.shape[0])\n",
    "print(\"\\n\")\n",
    "print(\"Shape of training instance features:\", X_tr.shape[1:])\n",
    "print(\"Shape of validation instance features:\", X_val.shape[1:])"
   ]
  },
  {
   "cell_type": "markdown",
   "id": "aeef1dee",
   "metadata": {},
   "source": [
    "Instead of having features in the shape of (28, 28), let's reshape our features to (784,) so that we can easily manipulate these arrays."
   ]
  },
  {
   "cell_type": "code",
   "execution_count": 18,
   "id": "a1f912b9",
   "metadata": {},
   "outputs": [
    {
     "data": {
      "text/plain": [
       "(232365, 28, 28)"
      ]
     },
     "execution_count": 18,
     "metadata": {},
     "output_type": "execute_result"
    }
   ],
   "source": [
    "X_tr.shape"
   ]
  },
  {
   "cell_type": "code",
   "execution_count": 19,
   "id": "3c609db1",
   "metadata": {},
   "outputs": [],
   "source": [
    "X_tr = X_tr.reshape((232365, 28*28))"
   ]
  },
  {
   "cell_type": "code",
   "execution_count": 20,
   "id": "f36434ba",
   "metadata": {},
   "outputs": [
    {
     "data": {
      "text/plain": [
       "(232365, 784)"
      ]
     },
     "execution_count": 20,
     "metadata": {},
     "output_type": "execute_result"
    }
   ],
   "source": [
    "X_tr.shape"
   ]
  },
  {
   "cell_type": "code",
   "execution_count": null,
   "id": "cbbfa426",
   "metadata": {},
   "outputs": [],
   "source": []
  }
 ],
 "metadata": {
  "kernelspec": {
   "display_name": "Python 3 (ipykernel)",
   "language": "python",
   "name": "python3"
  },
  "language_info": {
   "codemirror_mode": {
    "name": "ipython",
    "version": 3
   },
   "file_extension": ".py",
   "mimetype": "text/x-python",
   "name": "python",
   "nbconvert_exporter": "python",
   "pygments_lexer": "ipython3",
   "version": "3.8.11"
  }
 },
 "nbformat": 4,
 "nbformat_minor": 5
}
